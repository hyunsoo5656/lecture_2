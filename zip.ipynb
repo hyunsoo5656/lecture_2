{
 "cells": [
  {
   "cell_type": "markdown",
   "metadata": {},
   "source": [
    "## zip()"
   ]
  },
  {
   "cell_type": "code",
   "execution_count": 1,
   "metadata": {},
   "outputs": [
    {
     "data": {
      "text/plain": [
       "zip"
      ]
     },
     "execution_count": 1,
     "metadata": {},
     "output_type": "execute_result"
    }
   ],
   "source": [
    "a = [10, 20, 30]\n",
    "b = (\"ten\", \"twenty\", 'thirty')\n",
    "data = zip(a,b)\n",
    "type(data)"
   ]
  },
  {
   "cell_type": "code",
   "execution_count": 2,
   "metadata": {},
   "outputs": [
    {
     "name": "stdout",
     "output_type": "stream",
     "text": [
      "<zip object at 0x05A84988>\n"
     ]
    }
   ],
   "source": [
    "print(data)"
   ]
  },
  {
   "cell_type": "code",
   "execution_count": 11,
   "metadata": {},
   "outputs": [
    {
     "name": "stdout",
     "output_type": "stream",
     "text": [
      "<zip object at 0x06749F08>\n",
      "(10, 'ten')\n",
      "[(10, 'ten')]\n",
      "(20, 'twenty')\n",
      "[(20, 'twenty')]\n",
      "(30, 'thirty')\n",
      "[(30, 'thirty')]\n",
      "{(30, 'thirty')}\n"
     ]
    }
   ],
   "source": [
    "a = [10, 20, 30]\n",
    "b = (\"ten\", \"twenty\", 'thirty')\n",
    "data = zip(a,b)\n",
    "type(data)\n",
    "\n",
    "print(data)\n",
    "for val in data:\n",
    "    print(val)    \n",
    "    val_list = []\n",
    "    val_list.append(val)\n",
    "    print(val_list)\n",
    "    \n",
    "val_set = set(val_list)\n",
    "print(val_set)\n",
    "\n",
    "\n",
    "    \n",
    "    "
   ]
  },
  {
   "cell_type": "code",
   "execution_count": null,
   "metadata": {},
   "outputs": [],
   "source": []
  }
 ],
 "metadata": {
  "kernelspec": {
   "display_name": "Python 3",
   "language": "python",
   "name": "python3"
  },
  "language_info": {
   "codemirror_mode": {
    "name": "ipython",
    "version": 3
   },
   "file_extension": ".py",
   "mimetype": "text/x-python",
   "name": "python",
   "nbconvert_exporter": "python",
   "pygments_lexer": "ipython3",
   "version": "3.8.3"
  }
 },
 "nbformat": 4,
 "nbformat_minor": 4
}
